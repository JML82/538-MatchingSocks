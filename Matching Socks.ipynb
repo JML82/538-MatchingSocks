{
 "cells": [
  {
   "cell_type": "markdown",
   "metadata": {},
   "source": [
    "# Can you find a matching pair of socks??\n",
    "\n",
    "This is my solution to the 538 Riddler Classic from December 20th, 2019.\n",
    "\n",
    "https://fivethirtyeight.com/features/can-you-find-a-matching-pair-of-socks/\n",
    "    \n",
    "From Kathy Bischoping comes a question we’ve all asked ourselves at one time or another:\n",
    "\n",
    "I have 10 pairs of socks in a drawer. Each pair is distinct from another and consists of two matching socks. Alas, I’m negligent when it comes to folding my laundry, and so the socks are not folded into pairs. This morning, fumbling around in the dark, I pull the socks out of the drawer, randomly and one at a time, until I have a matching pair of socks among the ones I’ve removed from the drawer.\n",
    "\n",
    "On average, how many socks will I pull out of the drawer in order to get my first matching pair?\n",
    "\n",
    "(Note: This is different from asking how many socks I must pull out of the drawer to guarantee that I have a matching pair. The answer to that question, by the pigeonhole principle, is 11 socks. This question is instead asking about the average.)\n",
    "\n",
    "Extra credit: Instead of 10 pairs of socks, what if I have some large number N pairs of socks?"
   ]
  },
  {
   "cell_type": "code",
   "execution_count": 1,
   "metadata": {},
   "outputs": [],
   "source": [
    "# import modules\n",
    "import numpy as np\n",
    "import matplotlib.pyplot as plt\n",
    "import seaborn as sns\n",
    "import random"
   ]
  },
  {
   "cell_type": "code",
   "execution_count": 20,
   "metadata": {},
   "outputs": [],
   "source": [
    " def messy_sock_drawer(no_of_pairs = 10, sims = 1):\n",
    "    \n",
    "    # initialise a list to store results of simulations\n",
    "    pulls = []\n",
    "    \n",
    "    for sim in range(sims):\n",
    "\n",
    "        # initialise variables and empty lists\n",
    "        drawer = []\n",
    "        removed_socks = []\n",
    "\n",
    "        # create a drawer full of socks, and shuffle them about\n",
    "        for sock in range(1, no_of_pairs + 1):\n",
    "            drawer += [sock] * 2\n",
    "        random.shuffle(drawer)\n",
    "\n",
    "        # continue to pull socks out of the drawer, until you have two of a kind\n",
    "        while True:\n",
    "            pulled_sock = drawer[0]\n",
    "            removed_socks.append(drawer[0])\n",
    "            del drawer[0]\n",
    "            if removed_socks.count(pulled_sock) > 1:\n",
    "                break\n",
    "\n",
    "        # calculate the number of pulls it took to get two of a kind\n",
    "        pulls_needed = len(removed_socks)\n",
    "        pulls.append(pulls_needed)\n",
    "    \n",
    "    return pulls"
   ]
  },
  {
   "cell_type": "code",
   "execution_count": 33,
   "metadata": {},
   "outputs": [
    {
     "name": "stdout",
     "output_type": "stream",
     "text": [
      "The average number of pulls to return a pair is: 5.67686\n"
     ]
    }
   ],
   "source": [
    "# run the function for ten pairs of socks, and a 100k simulations\n",
    "pulls = messy_sock_drawer(10, 100000)\n",
    "average_pulls =np.mean(pulls)\n",
    "print(\"The average number of pulls to return a pair is: \" + str(average_pulls))"
   ]
  },
  {
   "cell_type": "code",
   "execution_count": 42,
   "metadata": {},
   "outputs": [
    {
     "data": {
      "image/png": "[encoded data removed]",
      "text/plain": [
       "<Figure size 432x288 with 1 Axes>"
      ]
     },
     "metadata": {},
     "output_type": "display_data"
    }
   ],
   "source": [
    "# plot the results of the above simulation\n",
    "sns.set_style('ticks')\n",
    "sns.countplot(pulls, color = 'lightsteelblue')\n",
    "sns.despine(top = True, right = True)\n",
    "plt.xlabel(\"pulls needed\")\n",
    "plt.ylabel(\"count\")\n",
    "plt.title(\"Pulls needed to return a pair (100k simulations)\")\n",
    "plt.show()"
   ]
  }
 ],
 "metadata": {
  "kernelspec": {
   "display_name": "Python 3",
   "language": "python",
   "name": "python3"
  },
  "language_info": {
   "codemirror_mode": {
    "name": "ipython",
    "version": 3
   },
   "file_extension": ".py",
   "mimetype": "text/x-python",
   "name": "python",
   "nbconvert_exporter": "python",
   "pygments_lexer": "ipython3",
   "version": "3.6.5"
  }
 },
 "nbformat": 4,
 "nbformat_minor": 2
}
